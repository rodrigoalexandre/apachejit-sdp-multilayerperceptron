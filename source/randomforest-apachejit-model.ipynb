{
 "cells": [
  {
   "cell_type": "markdown",
   "id": "3fda00db-d4b7-4060-87fc-fb0f1b6edaa5",
   "metadata": {},
   "source": [
    "#### Train a Random Forest model with ApacheJIT dataset."
   ]
  },
  {
   "cell_type": "markdown",
   "id": "472240eb-dbd7-4518-b5d5-ce00f851b08d",
   "metadata": {},
   "source": [
    "#### Import libraries."
   ]
  },
  {
   "cell_type": "code",
   "execution_count": null,
   "id": "a91454e9-69fb-416a-9966-d9a50fbd0192",
   "metadata": {},
   "outputs": [],
   "source": [
    "\n",
    "import matplotlib.pyplot as plt\n",
    "import numpy as np\n",
    "import pandas as pd\n",
    "import time\n",
    "from collections import Counter\n",
    "from imblearn.over_sampling import SMOTE\n",
    "from sklearn.ensemble import RandomForestClassifier\n",
    "from sklearn.metrics import accuracy_score, classification_report, ConfusionMatrixDisplay\n",
    "from sklearn.model_selection import train_test_split\n",
    "from sklearn.preprocessing import LabelEncoder, RobustScaler\n"
   ]
  },
  {
   "cell_type": "markdown",
   "id": "f1f05ed5-7f41-456b-a837-a24bc2f8eb3a",
   "metadata": {},
   "source": [
    "#### Load dataset."
   ]
  },
  {
   "cell_type": "code",
   "execution_count": 2,
   "id": "11c8a947-2753-4d91-8db4-94fdf0f4059e",
   "metadata": {},
   "outputs": [
    {
     "name": "stdout",
     "output_type": "stream",
     "text": [
      "\n",
      "Start loading CSV file...\n",
      "\n",
      "Finish loading CSV file...\n"
     ]
    }
   ],
   "source": [
    "\n",
    "df = None\n",
    "\n",
    "dtypes = {\"commit_id\": \"str\", \"project\" : \"str\", \"buggy\" : \"str\", \"fix\" : \"str\", \"year\" : \"str\", \"author_date\" : \"str\",\n",
    "          \"la\" : \"int16\", \"ld\" : \"int16\", \"nf\" : \"int16\", \"nd\" : \"int16\", \"ns\" : \"int16\", \"ent\" : \"float64\",\n",
    "          \"ndev\" : \"float64\", \"age\" : \"float64\", \"nuc\" : \"float64\", \"aexp\" : \"int16\", \"arexp\" : \"float64\", \"asexp\" : \"float64\"}\n",
    "\n",
    "try:\n",
    "    print(\"\\nStart loading CSV file...\")\n",
    "    df = pd.read_csv(\"../dataset/java/apachejit_total.csv\", sep = \",\", dtype = dtypes)\n",
    "    print(\"\\nFinish loading CSV file...\")\n",
    "except Exception as e:\n",
    "    print(\"\\nFail to load CSV file.\")\n",
    "    print(\"Error: {}\".format(e))\n"
   ]
  },
  {
   "cell_type": "markdown",
   "id": "0f93a14b-85d8-4710-8b2f-5a58725fb0b8",
   "metadata": {},
   "source": [
    "#### Check for dataset shape."
   ]
  },
  {
   "cell_type": "code",
   "execution_count": 3,
   "id": "b7a8d9b3-3fba-4841-bd31-febae360693b",
   "metadata": {},
   "outputs": [
    {
     "data": {
      "text/plain": [
       "(106674, 18)"
      ]
     },
     "execution_count": 3,
     "metadata": {},
     "output_type": "execute_result"
    }
   ],
   "source": [
    "\n",
    "df.shape\n"
   ]
  },
  {
   "cell_type": "markdown",
   "id": "3d5b5b6f-f90a-4c16-a2db-c0aba544b7e2",
   "metadata": {},
   "source": [
    "#### Remove unnecessary features from the dataset and show class identification."
   ]
  },
  {
   "cell_type": "code",
   "execution_count": 4,
   "id": "80663f4d-8c07-46bf-9076-8e6ddc47fb54",
   "metadata": {},
   "outputs": [
    {
     "name": "stdout",
     "output_type": "stream",
     "text": [
      "Dataset classes: {'False': np.int64(0), 'True': np.int64(1)}\n"
     ]
    }
   ],
   "source": [
    "\n",
    "df.drop(columns = [\"commit_id\", \"project\", \"fix\", \"year\", \"author_date\"], inplace = True)\n",
    "le = LabelEncoder()\n",
    "df.loc[:, [\"buggy\"]] = le.fit_transform(df[\"buggy\"])\n",
    "mapping = dict(zip(le.classes_, le.transform(le.classes_)))\n",
    "print(f\"Dataset classes: {mapping}\")\n"
   ]
  },
  {
   "cell_type": "markdown",
   "id": "ac5b25cc-bdf3-4bab-b02e-b84382b721ea",
   "metadata": {},
   "source": [
    "#### Perform oversampling of the dataset samples and train the Random Forest model."
   ]
  },
  {
   "cell_type": "code",
   "execution_count": 5,
   "id": "61990718-5b11-4833-b644-0230a9237bf0",
   "metadata": {},
   "outputs": [
    {
     "name": "stdout",
     "output_type": "stream",
     "text": [
      "\n",
      "Start splitting dataset...\n",
      "\n",
      "Start generating SMOTE...\n",
      "125496 samples after SMOTE.\n",
      "Finish generating SMOTE.\n",
      "Class distribution for training after SMOTE: Counter({np.int64(0): 62748, np.int64(1): 62748})\n",
      "Number of samples for training: 125496\n",
      "Number of samples for test: 21335\n",
      "\n",
      "Starting training...\n",
      "\n",
      "Time taken for training:  00:00:10\n"
     ]
    }
   ],
   "source": [
    "\n",
    "feature_names = [\"la\", \"ld\", \"nf\", \"nd\", \"ns\", \"ent\", \"ndev\", \"age\", \"nuc\", \"aexp\", \"arexp\", \"asexp\"]\n",
    "\n",
    "X = df.loc[:, feature_names].values\n",
    "y = df.loc[:, [\"buggy\"]].values.astype(int)\n",
    "\n",
    "print(\"\\nStart splitting dataset...\")\n",
    "X_train, X_test, y_train, y_test = train_test_split(X, y, test_size = 0.2, stratify = y, random_state = 42)\n",
    "\n",
    "transformer = RobustScaler()\n",
    "X_train = transformer.fit_transform(X_train)\n",
    "X_test = transformer.transform(X_test)\n",
    "\n",
    "print(\"\\nStart generating SMOTE...\")\n",
    "sm = SMOTE(random_state = 42)\n",
    "X_train, y_train = sm.fit_resample(X_train, y_train)\n",
    "print(\"{} samples after SMOTE.\".format(len(y_train)))\n",
    "print(\"Finish generating SMOTE.\")\n",
    "print(f\"Class distribution for training after SMOTE: {Counter(y_train)}\")\n",
    "print(\"Number of samples for training: {}\".format(len(X_train)))\n",
    "print(\"Number of samples for test: {}\".format(len(X_test)))\n",
    "\n",
    "start_time = time.time()\n",
    "print(\"\\nStarting training...\")\n",
    "model = RandomForestClassifier(n_estimators = 100, max_depth = 5, random_state = 42)\n",
    "model.fit(X_train, y_train)\n",
    "elapsed_seconds = time.time() - start_time\n",
    "print(\"\\nTime taken for training: \", time.strftime(\"%H:%M:%S\", time.gmtime(elapsed_seconds)))\n"
   ]
  },
  {
   "cell_type": "markdown",
   "id": "83f3cfaa-98f2-42a2-8f46-80181b1b3542",
   "metadata": {},
   "source": [
    "#### Show training metrics."
   ]
  },
  {
   "cell_type": "code",
   "execution_count": 6,
   "id": "e753e153-2af4-464d-b742-ed2e26dda06f",
   "metadata": {},
   "outputs": [
    {
     "name": "stdout",
     "output_type": "stream",
     "text": [
      "Model accuracy: 74.47%\n",
      "              precision    recall  f1-score   support\n",
      "\n",
      "           0       0.76      0.72      0.74     62748\n",
      "           1       0.73      0.77      0.75     62748\n",
      "\n",
      "    accuracy                           0.74    125496\n",
      "   macro avg       0.75      0.74      0.74    125496\n",
      "weighted avg       0.75      0.74      0.74    125496\n",
      "\n"
     ]
    },
    {
     "data": {
      "text/plain": [
       "<sklearn.metrics._plot.confusion_matrix.ConfusionMatrixDisplay at 0x1d0404fbf50>"
      ]
     },
     "execution_count": 6,
     "metadata": {},
     "output_type": "execute_result"
    },
    {
     "data": {
      "image/png": "[encoded data removed]",
      "text/plain": [
       "<Figure size 640x480 with 2 Axes>"
      ]
     },
     "metadata": {},
     "output_type": "display_data"
    }
   ],
   "source": [
    "\n",
    "training_predictions = model.predict(X_train)\n",
    "print(f\"Model accuracy: {round(accuracy_score(y_train, training_predictions)*100, 2)}%\")\n",
    "print(classification_report(y_train, training_predictions, zero_division = 0))\n",
    "ConfusionMatrixDisplay.from_predictions(y_train, training_predictions)\n"
   ]
  },
  {
   "cell_type": "markdown",
   "id": "0c6177d4-253a-4397-bd98-541b9e635fe2",
   "metadata": {},
   "source": [
    "#### Show test metrics."
   ]
  },
  {
   "cell_type": "code",
   "execution_count": 7,
   "id": "9517ff4c-d4a3-42fe-9a9e-170bfd311732",
   "metadata": {},
   "outputs": [
    {
     "name": "stdout",
     "output_type": "stream",
     "text": [
      "Model accuracy: 71.39%\n",
      "              precision    recall  f1-score   support\n",
      "\n",
      "           0       0.87      0.72      0.79     15687\n",
      "           1       0.47      0.70      0.57      5648\n",
      "\n",
      "    accuracy                           0.71     21335\n",
      "   macro avg       0.67      0.71      0.68     21335\n",
      "weighted avg       0.77      0.71      0.73     21335\n",
      "\n"
     ]
    },
    {
     "data": {
      "text/plain": [
       "<sklearn.metrics._plot.confusion_matrix.ConfusionMatrixDisplay at 0x1d067963bd0>"
      ]
     },
     "execution_count": 7,
     "metadata": {},
     "output_type": "execute_result"
    },
    {
     "data": {
      "image/png": "[encoded data removed]",
      "text/plain": [
       "<Figure size 640x480 with 2 Axes>"
      ]
     },
     "metadata": {},
     "output_type": "display_data"
    }
   ],
   "source": [
    "\n",
    "test_predictions = model.predict(X_test)\n",
    "print(f\"Model accuracy: {round(accuracy_score(y_test, test_predictions)*100, 2)}%\")\n",
    "print(classification_report(y_test, test_predictions, zero_division = 0))\n",
    "ConfusionMatrixDisplay.from_predictions(y_test, test_predictions)\n"
   ]
  }
 ],
 "metadata": {
  "kernelspec": {
   "display_name": "Python 3",
   "language": "python",
   "name": "python3"
  },
  "language_info": {
   "codemirror_mode": {
    "name": "ipython",
    "version": 3
   },
   "file_extension": ".py",
   "mimetype": "text/x-python",
   "name": "python",
   "nbconvert_exporter": "python",
   "pygments_lexer": "ipython3",
   "version": "3.11.2"
  }
 },
 "nbformat": 4,
 "nbformat_minor": 5
}
