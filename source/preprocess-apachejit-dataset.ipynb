{
 "cells": [
  {
   "cell_type": "markdown",
   "id": "f47f0bdf",
   "metadata": {},
   "source": [
    "#### Preprocess the Apache-JIT dataset."
   ]
  },
  {
   "cell_type": "markdown",
   "id": "6b4dcd61",
   "metadata": {},
   "source": [
    "#### Import necessary libraries."
   ]
  },
  {
   "cell_type": "code",
   "execution_count": 1,
   "id": "44296a43",
   "metadata": {},
   "outputs": [],
   "source": [
    "\n",
    "import numpy as np\n",
    "import pandas as pd\n",
    "import seaborn as sns\n",
    "from sklearn.preprocessing import LabelEncoder\n"
   ]
  },
  {
   "cell_type": "markdown",
   "id": "e0cd4ff4",
   "metadata": {},
   "source": [
    "#### Load the dataset."
   ]
  },
  {
   "cell_type": "code",
   "execution_count": 2,
   "id": "3607dcbe",
   "metadata": {},
   "outputs": [
    {
     "name": "stdout",
     "output_type": "stream",
     "text": [
      "\n",
      "Start loading CSV file...\n",
      "\n",
      "Finish loading CSV file...\n"
     ]
    }
   ],
   "source": [
    "\n",
    "df = None\n",
    "\n",
    "dtypes = {\"commit_id\": \"str\", \"project\" : \"str\", \"buggy\" : \"str\", \"fix\" : \"str\", \"year\" : \"str\", \"author_date\" : \"str\",\n",
    "          \"la\" : \"int16\", \"ld\" : \"int16\", \"nf\" : \"int16\", \"nd\" : \"int16\", \"ns\" : \"int16\", \"ent\" : \"float64\",\n",
    "          \"ndev\" : \"float64\", \"age\" : \"float64\", \"nuc\" : \"float64\", \"aexp\" : \"int16\", \"arexp\" : \"float64\", \"asexp\" : \"float64\"}\n",
    "\n",
    "try:\n",
    "    print(\"\\nStart loading CSV file...\")\n",
    "    df = pd.read_csv(\"../dataset/java/apachejit_total.csv\", sep = \",\", dtype = dtypes)\n",
    "    print(\"\\nFinish loading CSV file...\")\n",
    "except Exception as e:\n",
    "    print(\"\\nFail to load CSV file.\")\n",
    "    print(\"Error: {}\".format(e))\n"
   ]
  },
  {
   "cell_type": "markdown",
   "id": "9bb29b14",
   "metadata": {},
   "source": [
    "#### Display dataset size."
   ]
  },
  {
   "cell_type": "code",
   "execution_count": 3,
   "id": "2aaa7fae",
   "metadata": {},
   "outputs": [
    {
     "data": {
      "text/plain": [
       "(106674, 18)"
      ]
     },
     "execution_count": 3,
     "metadata": {},
     "output_type": "execute_result"
    }
   ],
   "source": [
    "\n",
    "df.shape\n"
   ]
  },
  {
   "cell_type": "markdown",
   "id": "84160098",
   "metadata": {},
   "source": [
    "#### Display dataset data types."
   ]
  },
  {
   "cell_type": "code",
   "execution_count": 4,
   "id": "57902a96",
   "metadata": {},
   "outputs": [
    {
     "data": {
      "text/plain": [
       "commit_id       object\n",
       "project         object\n",
       "buggy           object\n",
       "fix             object\n",
       "year            object\n",
       "author_date     object\n",
       "la               int16\n",
       "ld               int16\n",
       "nf               int16\n",
       "nd               int16\n",
       "ns               int16\n",
       "ent            float64\n",
       "ndev           float64\n",
       "age            float64\n",
       "nuc            float64\n",
       "aexp             int16\n",
       "arexp          float64\n",
       "asexp          float64\n",
       "dtype: object"
      ]
     },
     "execution_count": 4,
     "metadata": {},
     "output_type": "execute_result"
    }
   ],
   "source": [
    "\n",
    "df.dtypes\n"
   ]
  },
  {
   "cell_type": "markdown",
   "id": "6f0f0c8f",
   "metadata": {},
   "source": [
    "#### Display the first rows of the dataset."
   ]
  },
  {
   "cell_type": "code",
   "execution_count": 5,
   "id": "594b3180",
   "metadata": {},
   "outputs": [
    {
     "data": {
      "text/html": [
       "<div>\n",
       "<style scoped>\n",
       "    .dataframe tbody tr th:only-of-type {\n",
       "        vertical-align: middle;\n",
       "    }\n",
       "\n",
       "    .dataframe tbody tr th {\n",
       "        vertical-align: top;\n",
       "    }\n",
       "\n",
       "    .dataframe thead th {\n",
       "        text-align: right;\n",
       "    }\n",
       "</style>\n",
       "<table border=\"1\" class=\"dataframe\">\n",
       "  <thead>\n",
       "    <tr style=\"text-align: right;\">\n",
       "      <th></th>\n",
       "      <th>commit_id</th>\n",
       "      <th>project</th>\n",
       "      <th>buggy</th>\n",
       "      <th>fix</th>\n",
       "      <th>year</th>\n",
       "      <th>author_date</th>\n",
       "      <th>la</th>\n",
       "      <th>ld</th>\n",
       "      <th>nf</th>\n",
       "      <th>nd</th>\n",
       "      <th>ns</th>\n",
       "      <th>ent</th>\n",
       "      <th>ndev</th>\n",
       "      <th>age</th>\n",
       "      <th>nuc</th>\n",
       "      <th>aexp</th>\n",
       "      <th>arexp</th>\n",
       "      <th>asexp</th>\n",
       "    </tr>\n",
       "  </thead>\n",
       "  <tbody>\n",
       "    <tr>\n",
       "      <th>0</th>\n",
       "      <td>7b8480744ea6e6fb41efd4329bb470c8f3c763db</td>\n",
       "      <td>apache/groovy</td>\n",
       "      <td>False</td>\n",
       "      <td>False</td>\n",
       "      <td>2003</td>\n",
       "      <td>1070355653</td>\n",
       "      <td>372</td>\n",
       "      <td>23</td>\n",
       "      <td>8</td>\n",
       "      <td>3</td>\n",
       "      <td>3</td>\n",
       "      <td>2.6697429443897702</td>\n",
       "      <td>0.250000000000000</td>\n",
       "      <td>3.6250000000000000</td>\n",
       "      <td>2.125</td>\n",
       "      <td>243</td>\n",
       "      <td>243.0</td>\n",
       "      <td>0.6835848225897260</td>\n",
       "    </tr>\n",
       "    <tr>\n",
       "      <th>1</th>\n",
       "      <td>192b631e7be302ecde822546ba70a9853ddbda01</td>\n",
       "      <td>apache/groovy</td>\n",
       "      <td>False</td>\n",
       "      <td>False</td>\n",
       "      <td>2003</td>\n",
       "      <td>1063298262</td>\n",
       "      <td>2</td>\n",
       "      <td>2</td>\n",
       "      <td>2</td>\n",
       "      <td>2</td>\n",
       "      <td>1</td>\n",
       "      <td>1.0000000000000000</td>\n",
       "      <td>1.000000000000000</td>\n",
       "      <td>0.0000000000000000</td>\n",
       "      <td>2.500</td>\n",
       "      <td>19</td>\n",
       "      <td>19.0</td>\n",
       "      <td>14.0000000000000000</td>\n",
       "    </tr>\n",
       "    <tr>\n",
       "      <th>2</th>\n",
       "      <td>0ab6465a7dece117c61c3efd3ec95d20524bdad6</td>\n",
       "      <td>apache/groovy</td>\n",
       "      <td>False</td>\n",
       "      <td>False</td>\n",
       "      <td>2003</td>\n",
       "      <td>1069704572</td>\n",
       "      <td>41</td>\n",
       "      <td>26</td>\n",
       "      <td>3</td>\n",
       "      <td>3</td>\n",
       "      <td>2</td>\n",
       "      <td>1.2376124957990802</td>\n",
       "      <td>0.666666666666667</td>\n",
       "      <td>5.3333333333333304</td>\n",
       "      <td>45.000</td>\n",
       "      <td>233</td>\n",
       "      <td>233.0</td>\n",
       "      <td>0.0006060572641253</td>\n",
       "    </tr>\n",
       "    <tr>\n",
       "      <th>3</th>\n",
       "      <td>449241d5fa1aeadd5eb9fa1280d4104dc0dfb891</td>\n",
       "      <td>apache/groovy</td>\n",
       "      <td>False</td>\n",
       "      <td>False</td>\n",
       "      <td>2003</td>\n",
       "      <td>1068487625</td>\n",
       "      <td>8</td>\n",
       "      <td>6</td>\n",
       "      <td>2</td>\n",
       "      <td>1</td>\n",
       "      <td>1</td>\n",
       "      <td>0.5916727785823270</td>\n",
       "      <td>1.000000000000000</td>\n",
       "      <td>3.0000000000000000</td>\n",
       "      <td>35.500</td>\n",
       "      <td>64</td>\n",
       "      <td>64.0</td>\n",
       "      <td>55.0000000000000000</td>\n",
       "    </tr>\n",
       "    <tr>\n",
       "      <th>4</th>\n",
       "      <td>698df9f5b0816e05bbf97a390428f8ef94e0cdbf</td>\n",
       "      <td>apache/groovy</td>\n",
       "      <td>False</td>\n",
       "      <td>False</td>\n",
       "      <td>2003</td>\n",
       "      <td>1063313516</td>\n",
       "      <td>70</td>\n",
       "      <td>4</td>\n",
       "      <td>6</td>\n",
       "      <td>3</td>\n",
       "      <td>1</td>\n",
       "      <td>2.5196719979484601</td>\n",
       "      <td>0.333333333333333</td>\n",
       "      <td>0.0000000000000000</td>\n",
       "      <td>6.000</td>\n",
       "      <td>27</td>\n",
       "      <td>27.0</td>\n",
       "      <td>22.0000000000000000</td>\n",
       "    </tr>\n",
       "  </tbody>\n",
       "</table>\n",
       "</div>"
      ],
      "text/plain": [
       "                                  commit_id        project  buggy    fix  \\\n",
       "0  7b8480744ea6e6fb41efd4329bb470c8f3c763db  apache/groovy  False  False   \n",
       "1  192b631e7be302ecde822546ba70a9853ddbda01  apache/groovy  False  False   \n",
       "2  0ab6465a7dece117c61c3efd3ec95d20524bdad6  apache/groovy  False  False   \n",
       "3  449241d5fa1aeadd5eb9fa1280d4104dc0dfb891  apache/groovy  False  False   \n",
       "4  698df9f5b0816e05bbf97a390428f8ef94e0cdbf  apache/groovy  False  False   \n",
       "\n",
       "   year author_date   la  ld  nf  nd  ns                 ent  \\\n",
       "0  2003  1070355653  372  23   8   3   3  2.6697429443897702   \n",
       "1  2003  1063298262    2   2   2   2   1  1.0000000000000000   \n",
       "2  2003  1069704572   41  26   3   3   2  1.2376124957990802   \n",
       "3  2003  1068487625    8   6   2   1   1  0.5916727785823270   \n",
       "4  2003  1063313516   70   4   6   3   1  2.5196719979484601   \n",
       "\n",
       "                ndev                 age     nuc  aexp  arexp  \\\n",
       "0  0.250000000000000  3.6250000000000000   2.125   243  243.0   \n",
       "1  1.000000000000000  0.0000000000000000   2.500    19   19.0   \n",
       "2  0.666666666666667  5.3333333333333304  45.000   233  233.0   \n",
       "3  1.000000000000000  3.0000000000000000  35.500    64   64.0   \n",
       "4  0.333333333333333  0.0000000000000000   6.000    27   27.0   \n",
       "\n",
       "                 asexp  \n",
       "0   0.6835848225897260  \n",
       "1  14.0000000000000000  \n",
       "2   0.0006060572641253  \n",
       "3  55.0000000000000000  \n",
       "4  22.0000000000000000  "
      ]
     },
     "execution_count": 5,
     "metadata": {},
     "output_type": "execute_result"
    }
   ],
   "source": [
    "\n",
    "pd.set_option(\"display.precision\", 16)\n",
    "df.head()\n"
   ]
  },
  {
   "cell_type": "markdown",
   "id": "bd614fa4",
   "metadata": {},
   "source": [
    "#### Display dataset statistics."
   ]
  },
  {
   "cell_type": "code",
   "execution_count": 6,
   "id": "2e584809",
   "metadata": {},
   "outputs": [
    {
     "data": {
      "text/html": [
       "<div>\n",
       "<style scoped>\n",
       "    .dataframe tbody tr th:only-of-type {\n",
       "        vertical-align: middle;\n",
       "    }\n",
       "\n",
       "    .dataframe tbody tr th {\n",
       "        vertical-align: top;\n",
       "    }\n",
       "\n",
       "    .dataframe thead th {\n",
       "        text-align: right;\n",
       "    }\n",
       "</style>\n",
       "<table border=\"1\" class=\"dataframe\">\n",
       "  <thead>\n",
       "    <tr style=\"text-align: right;\">\n",
       "      <th></th>\n",
       "      <th>buggy</th>\n",
       "      <th>la</th>\n",
       "      <th>ld</th>\n",
       "      <th>nf</th>\n",
       "      <th>nd</th>\n",
       "      <th>ns</th>\n",
       "      <th>ent</th>\n",
       "      <th>ndev</th>\n",
       "      <th>age</th>\n",
       "      <th>nuc</th>\n",
       "      <th>aexp</th>\n",
       "      <th>arexp</th>\n",
       "      <th>asexp</th>\n",
       "    </tr>\n",
       "  </thead>\n",
       "  <tbody>\n",
       "    <tr>\n",
       "      <th>count</th>\n",
       "      <td>106674.000</td>\n",
       "      <td>106674.000</td>\n",
       "      <td>106674.000</td>\n",
       "      <td>106674.000</td>\n",
       "      <td>106674.000</td>\n",
       "      <td>106674.000</td>\n",
       "      <td>106674.000</td>\n",
       "      <td>106674.000</td>\n",
       "      <td>106674.000</td>\n",
       "      <td>106674.000</td>\n",
       "      <td>106674.000</td>\n",
       "      <td>106674.000</td>\n",
       "      <td>106674.000</td>\n",
       "    </tr>\n",
       "    <tr>\n",
       "      <th>mean</th>\n",
       "      <td>0.265</td>\n",
       "      <td>189.132</td>\n",
       "      <td>76.731</td>\n",
       "      <td>6.356</td>\n",
       "      <td>2.943</td>\n",
       "      <td>1.421</td>\n",
       "      <td>1.304</td>\n",
       "      <td>5.232</td>\n",
       "      <td>60.327</td>\n",
       "      <td>90.907</td>\n",
       "      <td>1225.425</td>\n",
       "      <td>606.947</td>\n",
       "      <td>402.826</td>\n",
       "    </tr>\n",
       "    <tr>\n",
       "      <th>std</th>\n",
       "      <td>0.441</td>\n",
       "      <td>533.158</td>\n",
       "      <td>312.677</td>\n",
       "      <td>10.142</td>\n",
       "      <td>3.418</td>\n",
       "      <td>0.975</td>\n",
       "      <td>1.243</td>\n",
       "      <td>9.107</td>\n",
       "      <td>136.148</td>\n",
       "      <td>251.274</td>\n",
       "      <td>2704.083</td>\n",
       "      <td>1010.401</td>\n",
       "      <td>991.486</td>\n",
       "    </tr>\n",
       "    <tr>\n",
       "      <th>min</th>\n",
       "      <td>0.000</td>\n",
       "      <td>0.000</td>\n",
       "      <td>0.000</td>\n",
       "      <td>1.000</td>\n",
       "      <td>1.000</td>\n",
       "      <td>1.000</td>\n",
       "      <td>0.000</td>\n",
       "      <td>0.000</td>\n",
       "      <td>0.000</td>\n",
       "      <td>0.000</td>\n",
       "      <td>0.000</td>\n",
       "      <td>0.000</td>\n",
       "      <td>0.000</td>\n",
       "    </tr>\n",
       "    <tr>\n",
       "      <th>25%</th>\n",
       "      <td>0.000</td>\n",
       "      <td>7.000</td>\n",
       "      <td>2.000</td>\n",
       "      <td>1.000</td>\n",
       "      <td>1.000</td>\n",
       "      <td>1.000</td>\n",
       "      <td>0.000</td>\n",
       "      <td>1.000</td>\n",
       "      <td>1.333</td>\n",
       "      <td>5.000</td>\n",
       "      <td>49.000</td>\n",
       "      <td>44.500</td>\n",
       "      <td>1.000</td>\n",
       "    </tr>\n",
       "    <tr>\n",
       "      <th>50%</th>\n",
       "      <td>0.000</td>\n",
       "      <td>37.000</td>\n",
       "      <td>9.000</td>\n",
       "      <td>3.000</td>\n",
       "      <td>2.000</td>\n",
       "      <td>1.000</td>\n",
       "      <td>1.000</td>\n",
       "      <td>2.333</td>\n",
       "      <td>13.818</td>\n",
       "      <td>15.000</td>\n",
       "      <td>222.000</td>\n",
       "      <td>180.333</td>\n",
       "      <td>36.000</td>\n",
       "    </tr>\n",
       "    <tr>\n",
       "      <th>75%</th>\n",
       "      <td>1.000</td>\n",
       "      <td>147.000</td>\n",
       "      <td>41.000</td>\n",
       "      <td>7.000</td>\n",
       "      <td>3.000</td>\n",
       "      <td>2.000</td>\n",
       "      <td>2.050</td>\n",
       "      <td>5.875</td>\n",
       "      <td>57.000</td>\n",
       "      <td>51.000</td>\n",
       "      <td>829.000</td>\n",
       "      <td>609.858</td>\n",
       "      <td>267.000</td>\n",
       "    </tr>\n",
       "    <tr>\n",
       "      <th>max</th>\n",
       "      <td>1.000</td>\n",
       "      <td>9967.000</td>\n",
       "      <td>9950.000</td>\n",
       "      <td>100.000</td>\n",
       "      <td>89.000</td>\n",
       "      <td>45.000</td>\n",
       "      <td>6.570</td>\n",
       "      <td>167.500</td>\n",
       "      <td>2713.057</td>\n",
       "      <td>3704.500</td>\n",
       "      <td>15795.000</td>\n",
       "      <td>4841.250</td>\n",
       "      <td>7842.000</td>\n",
       "    </tr>\n",
       "  </tbody>\n",
       "</table>\n",
       "</div>"
      ],
      "text/plain": [
       "           buggy         la         ld         nf         nd         ns  \\\n",
       "count 106674.000 106674.000 106674.000 106674.000 106674.000 106674.000   \n",
       "mean       0.265    189.132     76.731      6.356      2.943      1.421   \n",
       "std        0.441    533.158    312.677     10.142      3.418      0.975   \n",
       "min        0.000      0.000      0.000      1.000      1.000      1.000   \n",
       "25%        0.000      7.000      2.000      1.000      1.000      1.000   \n",
       "50%        0.000     37.000      9.000      3.000      2.000      1.000   \n",
       "75%        1.000    147.000     41.000      7.000      3.000      2.000   \n",
       "max        1.000   9967.000   9950.000    100.000     89.000     45.000   \n",
       "\n",
       "             ent       ndev        age        nuc       aexp      arexp  \\\n",
       "count 106674.000 106674.000 106674.000 106674.000 106674.000 106674.000   \n",
       "mean       1.304      5.232     60.327     90.907   1225.425    606.947   \n",
       "std        1.243      9.107    136.148    251.274   2704.083   1010.401   \n",
       "min        0.000      0.000      0.000      0.000      0.000      0.000   \n",
       "25%        0.000      1.000      1.333      5.000     49.000     44.500   \n",
       "50%        1.000      2.333     13.818     15.000    222.000    180.333   \n",
       "75%        2.050      5.875     57.000     51.000    829.000    609.858   \n",
       "max        6.570    167.500   2713.057   3704.500  15795.000   4841.250   \n",
       "\n",
       "           asexp  \n",
       "count 106674.000  \n",
       "mean     402.826  \n",
       "std      991.486  \n",
       "min        0.000  \n",
       "25%        1.000  \n",
       "50%       36.000  \n",
       "75%      267.000  \n",
       "max     7842.000  "
      ]
     },
     "execution_count": 6,
     "metadata": {},
     "output_type": "execute_result"
    }
   ],
   "source": [
    "\n",
    "df = df.drop(columns = [\"commit_id\", \"project\", \"fix\", \"year\", \"author_date\"])\n",
    "le = LabelEncoder()\n",
    "df[\"buggy\"] = le.fit_transform(df[\"buggy\"])\n",
    "pd.set_option('display.float_format', lambda x: '%.3f' % x)\n",
    "df.describe()\n"
   ]
  },
  {
   "cell_type": "markdown",
   "id": "9bb6d672",
   "metadata": {},
   "source": [
    "#### Check for missing data."
   ]
  },
  {
   "cell_type": "code",
   "execution_count": 7,
   "id": "cd86dd07",
   "metadata": {},
   "outputs": [
    {
     "name": "stdout",
     "output_type": "stream",
     "text": [
      "<class 'pandas.core.frame.DataFrame'>\n",
      "RangeIndex: 106674 entries, 0 to 106673\n",
      "Data columns (total 13 columns):\n",
      " #   Column  Non-Null Count   Dtype  \n",
      "---  ------  --------------   -----  \n",
      " 0   buggy   106674 non-null  int32  \n",
      " 1   la      106674 non-null  int16  \n",
      " 2   ld      106674 non-null  int16  \n",
      " 3   nf      106674 non-null  int16  \n",
      " 4   nd      106674 non-null  int16  \n",
      " 5   ns      106674 non-null  int16  \n",
      " 6   ent     106674 non-null  float64\n",
      " 7   ndev    106674 non-null  float64\n",
      " 8   age     106674 non-null  float64\n",
      " 9   nuc     106674 non-null  float64\n",
      " 10  aexp    106674 non-null  int16  \n",
      " 11  arexp   106674 non-null  float64\n",
      " 12  asexp   106674 non-null  float64\n",
      "dtypes: float64(6), int16(6), int32(1)\n",
      "memory usage: 6.5 MB\n"
     ]
    }
   ],
   "source": [
    "\n",
    "df.info()\n"
   ]
  },
  {
   "cell_type": "markdown",
   "id": "0400a994",
   "metadata": {},
   "source": [
    "\n",
    "#### Check for skewness.\n"
   ]
  },
  {
   "cell_type": "code",
   "execution_count": 8,
   "id": "06fd3bc3",
   "metadata": {},
   "outputs": [
    {
     "data": {
      "text/plain": [
       "buggy    1.067\n",
       "la       7.771\n",
       "ld      12.889\n",
       "nf       4.131\n",
       "nd       4.678\n",
       "ns       6.145\n",
       "ent      0.927\n",
       "ndev     5.799\n",
       "age      5.655\n",
       "nuc      5.598\n",
       "aexp     3.321\n",
       "arexp    2.346\n",
       "asexp    3.931\n",
       "dtype: float64"
      ]
     },
     "execution_count": 8,
     "metadata": {},
     "output_type": "execute_result"
    }
   ],
   "source": [
    "\n",
    "df.skew()\n"
   ]
  },
  {
   "cell_type": "markdown",
   "id": "f4654437",
   "metadata": {},
   "source": [
    "#### Check for kurtosis."
   ]
  },
  {
   "cell_type": "code",
   "execution_count": 9,
   "id": "bddbe30c",
   "metadata": {},
   "outputs": [
    {
     "data": {
      "text/plain": [
       "buggy    -0.862\n",
       "la       85.041\n",
       "ld      242.531\n",
       "nf       22.250\n",
       "nd       40.717\n",
       "ns      101.698\n",
       "ent       0.420\n",
       "ndev     54.502\n",
       "age      48.564\n",
       "nuc      40.489\n",
       "aexp     11.136\n",
       "arexp     4.738\n",
       "asexp    17.330\n",
       "dtype: float64"
      ]
     },
     "execution_count": 9,
     "metadata": {},
     "output_type": "execute_result"
    }
   ],
   "source": [
    "\n",
    "df.kurtosis()\n"
   ]
  },
  {
   "cell_type": "markdown",
   "id": "b1fe22ca",
   "metadata": {},
   "source": [
    "#### Generate the correlation matrix between the features."
   ]
  },
  {
   "cell_type": "code",
   "execution_count": 10,
   "id": "812f0c42",
   "metadata": {},
   "outputs": [
    {
     "name": "stdout",
     "output_type": "stream",
     "text": [
      "       buggy     la     ld     nf     nd     ns    ent   ndev    age    nuc  \\\n",
      "buggy  1.000  0.247  0.114  0.256  0.236  0.220  0.286 -0.055 -0.050  0.038   \n",
      "la     0.247  1.000  0.295  0.517  0.379  0.235  0.404 -0.107 -0.034 -0.060   \n",
      "ld     0.114  0.295  1.000  0.425  0.299  0.176  0.300 -0.077  0.023 -0.045   \n",
      "nf     0.256  0.517  0.425  1.000  0.812  0.417  0.794 -0.168  0.035 -0.079   \n",
      "nd     0.236  0.379  0.299  0.812  1.000  0.534  0.713 -0.121  0.022 -0.022   \n",
      "ns     0.220  0.235  0.176  0.417  0.534  1.000  0.404  0.012  0.002  0.114   \n",
      "ent    0.286  0.404  0.300  0.794  0.713  0.404  1.000 -0.217  0.041 -0.069   \n",
      "ndev  -0.055 -0.107 -0.077 -0.168 -0.121  0.012 -0.217  1.000 -0.027  0.744   \n",
      "age   -0.050 -0.034  0.023  0.035  0.022  0.002  0.041 -0.027  1.000 -0.042   \n",
      "nuc    0.038 -0.060 -0.045 -0.079 -0.022  0.114 -0.069  0.744 -0.042  1.000   \n",
      "aexp  -0.107 -0.063 -0.029 -0.039 -0.035 -0.024 -0.026 -0.070  0.094 -0.038   \n",
      "arexp -0.104 -0.077 -0.039 -0.050 -0.052 -0.042 -0.041 -0.095  0.071 -0.039   \n",
      "asexp -0.097 -0.083 -0.053 -0.095 -0.113 -0.175 -0.113 -0.059  0.113 -0.082   \n",
      "\n",
      "        aexp  arexp  asexp  \n",
      "buggy -0.107 -0.104 -0.097  \n",
      "la    -0.063 -0.077 -0.083  \n",
      "ld    -0.029 -0.039 -0.053  \n",
      "nf    -0.039 -0.050 -0.095  \n",
      "nd    -0.035 -0.052 -0.113  \n",
      "ns    -0.024 -0.042 -0.175  \n",
      "ent   -0.026 -0.041 -0.113  \n",
      "ndev  -0.070 -0.095 -0.059  \n",
      "age    0.094  0.071  0.113  \n",
      "nuc   -0.038 -0.039 -0.082  \n",
      "aexp   1.000  0.941  0.684  \n",
      "arexp  0.941  1.000  0.707  \n",
      "asexp  0.684  0.707  1.000  \n"
     ]
    }
   ],
   "source": [
    "\n",
    "correlation_matrix = df.corr(numeric_only = True)\n",
    "print(correlation_matrix)\n"
   ]
  },
  {
   "cell_type": "markdown",
   "id": "623b978e-79e8-4483-abdc-b7331acee27a",
   "metadata": {},
   "source": [
    "#### Show correlation ranking."
   ]
  },
  {
   "cell_type": "code",
   "execution_count": 27,
   "id": "18ccf56b-299f-44c6-bde8-7c653664c892",
   "metadata": {},
   "outputs": [
    {
     "name": "stdout",
     "output_type": "stream",
     "text": [
      "buggy  buggy   1.000\n",
      "la     la      1.000\n",
      "arexp  arexp   1.000\n",
      "aexp   aexp    1.000\n",
      "nuc    nuc     1.000\n",
      "age    age     1.000\n",
      "ndev   ndev    1.000\n",
      "ns     ns      1.000\n",
      "nd     nd      1.000\n",
      "nf     nf      1.000\n",
      "ld     ld      1.000\n",
      "ent    ent     1.000\n",
      "asexp  asexp   1.000\n",
      "arexp  aexp    0.941\n",
      "aexp   arexp   0.941\n",
      "nd     nf      0.812\n",
      "nf     nd      0.812\n",
      "ent    nf      0.794\n",
      "nf     ent     0.794\n",
      "nuc    ndev    0.744\n",
      "ndev   nuc     0.744\n",
      "ent    nd      0.713\n",
      "nd     ent     0.713\n",
      "asexp  arexp   0.707\n",
      "arexp  asexp   0.707\n",
      "asexp  aexp    0.684\n",
      "aexp   asexp   0.684\n",
      "ns     nd      0.534\n",
      "nd     ns      0.534\n",
      "la     nf      0.517\n",
      "nf     la      0.517\n",
      "       ld      0.425\n",
      "ld     nf      0.425\n",
      "ns     nf      0.417\n",
      "nf     ns      0.417\n",
      "la     ent     0.404\n",
      "ent    la      0.404\n",
      "ns     ent     0.404\n",
      "ent    ns      0.404\n",
      "la     nd      0.379\n",
      "nd     la      0.379\n",
      "ent    ld      0.300\n",
      "ld     ent     0.300\n",
      "nd     ld      0.299\n",
      "ld     nd      0.299\n",
      "la     ld      0.295\n",
      "ld     la      0.295\n",
      "buggy  ent     0.286\n",
      "ent    buggy   0.286\n",
      "nf     buggy   0.256\n",
      "dtype: float64\n"
     ]
    }
   ],
   "source": [
    "\n",
    "correlation_ranking = correlation_matrix.abs().unstack().sort_values(ascending = False)\n",
    "print(correlation_ranking[:50])\n"
   ]
  },
  {
   "cell_type": "markdown",
   "id": "071d9ad5",
   "metadata": {},
   "source": [
    "#### Generate the la feature bloxplot."
   ]
  },
  {
   "cell_type": "code",
   "execution_count": 12,
   "id": "4c0cda6f",
   "metadata": {},
   "outputs": [
    {
     "data": {
      "text/plain": [
       "<Axes: xlabel='la'>"
      ]
     },
     "execution_count": 12,
     "metadata": {},
     "output_type": "execute_result"
    },
    {
     "data": {
      "image/png": "[encoded data removed]",
      "text/plain": [
       "<Figure size 640x480 with 1 Axes>"
      ]
     },
     "metadata": {},
     "output_type": "display_data"
    }
   ],
   "source": [
    "\n",
    "sns.boxplot(x = df[\"la\"])\n"
   ]
  },
  {
   "cell_type": "markdown",
   "id": "78c3e460",
   "metadata": {},
   "source": [
    "#### Generate the ld feature bloxplot."
   ]
  },
  {
   "cell_type": "code",
   "execution_count": 13,
   "id": "03d232c0",
   "metadata": {},
   "outputs": [
    {
     "data": {
      "text/plain": [
       "<Axes: xlabel='ld'>"
      ]
     },
     "execution_count": 13,
     "metadata": {},
     "output_type": "execute_result"
    },
    {
     "data": {
      "image/png": "[encoded data removed]",
      "text/plain": [
       "<Figure size 640x480 with 1 Axes>"
      ]
     },
     "metadata": {},
     "output_type": "display_data"
    }
   ],
   "source": [
    "\n",
    "sns.boxplot(x = df[\"ld\"])\n"
   ]
  },
  {
   "cell_type": "markdown",
   "id": "6b27c65a",
   "metadata": {},
   "source": [
    "#### Generate the nf feature bloxplot."
   ]
  },
  {
   "cell_type": "code",
   "execution_count": 14,
   "id": "a43cb6ba",
   "metadata": {},
   "outputs": [
    {
     "data": {
      "text/plain": [
       "<Axes: xlabel='nf'>"
      ]
     },
     "execution_count": 14,
     "metadata": {},
     "output_type": "execute_result"
    },
    {
     "data": {
      "image/png": "[encoded data removed]",
      "text/plain": [
       "<Figure size 640x480 with 1 Axes>"
      ]
     },
     "metadata": {},
     "output_type": "display_data"
    }
   ],
   "source": [
    "\n",
    "sns.boxplot(x = df[\"nf\"])\n"
   ]
  },
  {
   "cell_type": "markdown",
   "id": "f5c798be",
   "metadata": {},
   "source": [
    "#### Generate the nd feature bloxplot."
   ]
  },
  {
   "cell_type": "code",
   "execution_count": 15,
   "id": "ffdd1669",
   "metadata": {},
   "outputs": [
    {
     "data": {
      "text/plain": [
       "<Axes: xlabel='nd'>"
      ]
     },
     "execution_count": 15,
     "metadata": {},
     "output_type": "execute_result"
    },
    {
     "data": {
      "image/png": "[encoded data removed]",
      "text/plain": [
       "<Figure size 640x480 with 1 Axes>"
      ]
     },
     "metadata": {},
     "output_type": "display_data"
    }
   ],
   "source": [
    "\n",
    "sns.boxplot(x = df[\"nd\"])\n"
   ]
  },
  {
   "cell_type": "markdown",
   "id": "9a013206",
   "metadata": {},
   "source": [
    "#### Generate the ns feature bloxplot."
   ]
  },
  {
   "cell_type": "code",
   "execution_count": 16,
   "id": "2a57a9d7",
   "metadata": {},
   "outputs": [
    {
     "data": {
      "text/plain": [
       "<Axes: xlabel='ns'>"
      ]
     },
     "execution_count": 16,
     "metadata": {},
     "output_type": "execute_result"
    },
    {
     "data": {
      "image/png": "[encoded data removed]",
      "text/plain": [
       "<Figure size 640x480 with 1 Axes>"
      ]
     },
     "metadata": {},
     "output_type": "display_data"
    }
   ],
   "source": [
    "\n",
    "sns.boxplot(x = df[\"ns\"])\n"
   ]
  },
  {
   "cell_type": "markdown",
   "id": "d6365a2a",
   "metadata": {},
   "source": [
    "#### Generate the ent feature bloxplot."
   ]
  },
  {
   "cell_type": "code",
   "execution_count": 17,
   "id": "dfbb89cb",
   "metadata": {},
   "outputs": [
    {
     "data": {
      "text/plain": [
       "<Axes: xlabel='ent'>"
      ]
     },
     "execution_count": 17,
     "metadata": {},
     "output_type": "execute_result"
    },
    {
     "data": {
      "image/png": "[encoded data removed]",
      "text/plain": [
       "<Figure size 640x480 with 1 Axes>"
      ]
     },
     "metadata": {},
     "output_type": "display_data"
    }
   ],
   "source": [
    "\n",
    "sns.boxplot(x = df[\"ent\"])\n"
   ]
  },
  {
   "cell_type": "markdown",
   "id": "73336ee4",
   "metadata": {},
   "source": [
    "#### Generate the ndev feature bloxplot."
   ]
  },
  {
   "cell_type": "code",
   "execution_count": 18,
   "id": "e466086f",
   "metadata": {},
   "outputs": [
    {
     "data": {
      "text/plain": [
       "<Axes: xlabel='ndev'>"
      ]
     },
     "execution_count": 18,
     "metadata": {},
     "output_type": "execute_result"
    },
    {
     "data": {
      "image/png": "[encoded data removed]",
      "text/plain": [
       "<Figure size 640x480 with 1 Axes>"
      ]
     },
     "metadata": {},
     "output_type": "display_data"
    }
   ],
   "source": [
    "\n",
    "sns.boxplot(x = df[\"ndev\"])\n"
   ]
  },
  {
   "cell_type": "markdown",
   "id": "a0d12e02",
   "metadata": {},
   "source": [
    "#### Generate the age feature bloxplot."
   ]
  },
  {
   "cell_type": "code",
   "execution_count": 19,
   "id": "68a1b68a",
   "metadata": {},
   "outputs": [
    {
     "data": {
      "text/plain": [
       "<Axes: xlabel='age'>"
      ]
     },
     "execution_count": 19,
     "metadata": {},
     "output_type": "execute_result"
    },
    {
     "data": {
      "image/png": "[encoded data removed]",
      "text/plain": [
       "<Figure size 640x480 with 1 Axes>"
      ]
     },
     "metadata": {},
     "output_type": "display_data"
    }
   ],
   "source": [
    "\n",
    "sns.boxplot(x = df[\"age\"])\n"
   ]
  },
  {
   "cell_type": "markdown",
   "id": "383ddb06",
   "metadata": {},
   "source": [
    "#### Generate the nuc feature bloxplot."
   ]
  },
  {
   "cell_type": "code",
   "execution_count": 20,
   "id": "c617c025",
   "metadata": {},
   "outputs": [
    {
     "data": {
      "text/plain": [
       "<Axes: xlabel='nuc'>"
      ]
     },
     "execution_count": 20,
     "metadata": {},
     "output_type": "execute_result"
    },
    {
     "data": {
      "image/png": "[encoded data removed]",
      "text/plain": [
       "<Figure size 640x480 with 1 Axes>"
      ]
     },
     "metadata": {},
     "output_type": "display_data"
    }
   ],
   "source": [
    "\n",
    "sns.boxplot(x = df[\"nuc\"])\n"
   ]
  },
  {
   "cell_type": "markdown",
   "id": "2d391837",
   "metadata": {},
   "source": [
    "#### Generate the aexp feature bloxplot."
   ]
  },
  {
   "cell_type": "code",
   "execution_count": 21,
   "id": "bc32f3e3",
   "metadata": {},
   "outputs": [
    {
     "data": {
      "text/plain": [
       "<Axes: xlabel='aexp'>"
      ]
     },
     "execution_count": 21,
     "metadata": {},
     "output_type": "execute_result"
    },
    {
     "data": {
      "image/png": "[encoded data removed]",
      "text/plain": [
       "<Figure size 640x480 with 1 Axes>"
      ]
     },
     "metadata": {},
     "output_type": "display_data"
    }
   ],
   "source": [
    "\n",
    "sns.boxplot(x = df[\"aexp\"])\n"
   ]
  },
  {
   "cell_type": "markdown",
   "id": "40dce8bf",
   "metadata": {},
   "source": [
    "#### Generate the arexp feature bloxplot."
   ]
  },
  {
   "cell_type": "code",
   "execution_count": 22,
   "id": "70c76d9e",
   "metadata": {},
   "outputs": [
    {
     "data": {
      "text/plain": [
       "<Axes: xlabel='arexp'>"
      ]
     },
     "execution_count": 22,
     "metadata": {},
     "output_type": "execute_result"
    },
    {
     "data": {
      "image/png": "[encoded data removed]",
      "text/plain": [
       "<Figure size 640x480 with 1 Axes>"
      ]
     },
     "metadata": {},
     "output_type": "display_data"
    }
   ],
   "source": [
    "\n",
    "sns.boxplot(x = df[\"arexp\"])\n"
   ]
  },
  {
   "cell_type": "markdown",
   "id": "9afa40a1",
   "metadata": {},
   "source": [
    "#### Generate the asexp feature bloxplot."
   ]
  },
  {
   "cell_type": "code",
   "execution_count": 23,
   "id": "672446a2",
   "metadata": {},
   "outputs": [
    {
     "data": {
      "text/plain": [
       "<Axes: xlabel='asexp'>"
      ]
     },
     "execution_count": 23,
     "metadata": {},
     "output_type": "execute_result"
    },
    {
     "data": {
      "image/png": "[encoded data removed]",
      "text/plain": [
       "<Figure size 640x480 with 1 Axes>"
      ]
     },
     "metadata": {},
     "output_type": "display_data"
    }
   ],
   "source": [
    "\n",
    "sns.boxplot(x = df[\"asexp\"])\n"
   ]
  },
  {
   "cell_type": "markdown",
   "id": "f55181fa",
   "metadata": {},
   "source": [
    "#### Check the balance of the dataset."
   ]
  },
  {
   "cell_type": "code",
   "execution_count": 26,
   "id": "35792f05",
   "metadata": {},
   "outputs": [
    {
     "name": "stdout",
     "output_type": "stream",
     "text": [
      "       Frequence  Percentage\n",
      "buggy                       \n",
      "0          78435      73.530\n",
      "1          28239      26.470\n"
     ]
    }
   ],
   "source": [
    "\n",
    "class_counts = df[\"buggy\"].value_counts()\n",
    "total_instances = class_counts.sum()\n",
    "class_percentages = (class_counts / total_instances * 100).round(2)\n",
    "class_info = pd.concat([class_counts, class_percentages], axis = 1)\n",
    "class_info.columns = [\"Frequence\", \"Percentage\"]\n",
    "class_info_sorted = class_info.sort_values(by = \"Frequence\", ascending = False)\n",
    "print(class_info_sorted)\n"
   ]
  },
  {
   "cell_type": "markdown",
   "id": "70f9e5ba",
   "metadata": {},
   "source": [
    "#### Conclusions:\n",
    "- There is no missing or inconsistent data.\n",
    "- Features have values on different scales. This is an indication that it may be necessary to normalize or resize the values.\n",
    "- The skewness analysis shows that all features have an asymmetric distribution. This is an indication that it may be necessary to use feature normalize techniques.\n",
    "- The kurtosis analysis and the generated boxplots show that all features have outliers. This is an indication that it may be necessary to eliminate outliers from the dataset, if possible in this context, or use a Machine Learning model that can better deal with outliers if they were kept in the dataset.\n",
    "- The analysis of the correlation between the features shows that there are features with a correlation greather than 70%. This is an indication that the option of removing these features from the dataset should be considered.\n",
    "- The dataset is a little unbalanced. This is an indication that the use of balancing techniques should be considered.\n"
   ]
  },
  {
   "cell_type": "code",
   "execution_count": null,
   "id": "9299419b",
   "metadata": {},
   "outputs": [],
   "source": []
  }
 ],
 "metadata": {
  "kernelspec": {
   "display_name": "Python 3 (ipykernel)",
   "language": "python",
   "name": "python3"
  },
  "language_info": {
   "codemirror_mode": {
    "name": "ipython",
    "version": 3
   },
   "file_extension": ".py",
   "mimetype": "text/x-python",
   "name": "python",
   "nbconvert_exporter": "python",
   "pygments_lexer": "ipython3",
   "version": "3.10.13"
  },
  "varInspector": {
   "cols": {
    "lenName": 16,
    "lenType": 16,
    "lenVar": 40
   },
   "kernels_config": {
    "python": {
     "delete_cmd_postfix": "",
     "delete_cmd_prefix": "del ",
     "library": "var_list.py",
     "varRefreshCmd": "print(var_dic_list())"
    },
    "r": {
     "delete_cmd_postfix": ") ",
     "delete_cmd_prefix": "rm(",
     "library": "var_list.r",
     "varRefreshCmd": "cat(var_dic_list()) "
    }
   },
   "types_to_exclude": [
    "module",
    "function",
    "builtin_function_or_method",
    "instance",
    "_Feature"
   ],
   "window_display": false
  }
 },
 "nbformat": 4,
 "nbformat_minor": 5
}
